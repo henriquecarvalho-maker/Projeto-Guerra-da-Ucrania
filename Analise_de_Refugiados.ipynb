{
 "cells": [
  {
   "cell_type": "markdown",
   "id": "156aea31",
   "metadata": {},
   "source": [
    "<h1 style='font-size: 30px; color: blue;'>Refugianos da Guerra da Ucrania<h1>"
   ]
  },
  {
   "cell_type": "markdown",
   "id": "ab491d28",
   "metadata": {},
   "source": [
    "## Análise Descritiva\n",
    "<hr>"
   ]
  },
  {
   "cell_type": "code",
   "execution_count": 14,
   "id": "f1ebd145",
   "metadata": {},
   "outputs": [],
   "source": [
    "import pandas as pd\n",
    "import seaborn as sns\n",
    "sns.set_theme(style=\"darkgrid\")\n",
    "import numpy as np\n",
    "import matplotlib\n",
    "import matplotlib.pyplot as plt\n",
    "%matplotlib inline\n",
    "plt.rc('figure', figsize= (14, 6))"
   ]
  },
  {
   "cell_type": "code",
   "execution_count": 15,
   "id": "9393c9f1",
   "metadata": {},
   "outputs": [],
   "source": [
    "dados= pd.read_csv('dados/Ukraine Explorer Inputs Prod - RefugeesSeries.csv')"
   ]
  },
  {
   "cell_type": "code",
   "execution_count": 16,
   "id": "442e5abd",
   "metadata": {},
   "outputs": [
    {
     "data": {
      "text/html": [
       "<div>\n",
       "<style scoped>\n",
       "    .dataframe tbody tr th:only-of-type {\n",
       "        vertical-align: middle;\n",
       "    }\n",
       "\n",
       "    .dataframe tbody tr th {\n",
       "        vertical-align: top;\n",
       "    }\n",
       "\n",
       "    .dataframe thead th {\n",
       "        text-align: right;\n",
       "    }\n",
       "</style>\n",
       "<table border=\"1\" class=\"dataframe\">\n",
       "  <thead>\n",
       "    <tr style=\"text-align: right;\">\n",
       "      <th></th>\n",
       "      <th>RefugeesDate</th>\n",
       "      <th>NoRefugees</th>\n",
       "    </tr>\n",
       "  </thead>\n",
       "  <tbody>\n",
       "    <tr>\n",
       "      <th>0</th>\n",
       "      <td>#affected+date+refugees</td>\n",
       "      <td>#affected+refugees</td>\n",
       "    </tr>\n",
       "    <tr>\n",
       "      <th>1</th>\n",
       "      <td>2022-04-25</td>\n",
       "      <td>85000</td>\n",
       "    </tr>\n",
       "    <tr>\n",
       "      <th>2</th>\n",
       "      <td>2022-04-27</td>\n",
       "      <td>128300</td>\n",
       "    </tr>\n",
       "    <tr>\n",
       "      <th>3</th>\n",
       "      <td>2022-05-03</td>\n",
       "      <td>165700</td>\n",
       "    </tr>\n",
       "    <tr>\n",
       "      <th>4</th>\n",
       "      <td>2022-05-09</td>\n",
       "      <td>180700</td>\n",
       "    </tr>\n",
       "    <tr>\n",
       "      <th>...</th>\n",
       "      <td>...</td>\n",
       "      <td>...</td>\n",
       "    </tr>\n",
       "    <tr>\n",
       "      <th>189</th>\n",
       "      <td>2023-01-27</td>\n",
       "      <td>7999941</td>\n",
       "    </tr>\n",
       "    <tr>\n",
       "      <th>190</th>\n",
       "      <td>2023-01-28</td>\n",
       "      <td>8001769</td>\n",
       "    </tr>\n",
       "    <tr>\n",
       "      <th>191</th>\n",
       "      <td>2023-01-29</td>\n",
       "      <td>8010394</td>\n",
       "    </tr>\n",
       "    <tr>\n",
       "      <th>192</th>\n",
       "      <td>2023-01-30</td>\n",
       "      <td>8012519</td>\n",
       "    </tr>\n",
       "    <tr>\n",
       "      <th>193</th>\n",
       "      <td>2023-01-31</td>\n",
       "      <td>8046560</td>\n",
       "    </tr>\n",
       "  </tbody>\n",
       "</table>\n",
       "<p>194 rows × 2 columns</p>\n",
       "</div>"
      ],
      "text/plain": [
       "                RefugeesDate          NoRefugees\n",
       "0    #affected+date+refugees  #affected+refugees\n",
       "1                 2022-04-25               85000\n",
       "2                 2022-04-27              128300\n",
       "3                 2022-05-03              165700\n",
       "4                 2022-05-09              180700\n",
       "..                       ...                 ...\n",
       "189               2023-01-27             7999941\n",
       "190               2023-01-28             8001769\n",
       "191               2023-01-29             8010394\n",
       "192               2023-01-30             8012519\n",
       "193               2023-01-31             8046560\n",
       "\n",
       "[194 rows x 2 columns]"
      ]
     },
     "execution_count": 16,
     "metadata": {},
     "output_type": "execute_result"
    }
   ],
   "source": [
    "dados"
   ]
  },
  {
   "cell_type": "code",
   "execution_count": 17,
   "id": "94a6d2ad",
   "metadata": {},
   "outputs": [],
   "source": [
    "dados.drop(0, axis=0, inplace=True)"
   ]
  },
  {
   "cell_type": "code",
   "execution_count": 18,
   "id": "ac28258b",
   "metadata": {
    "scrolled": false
   },
   "outputs": [
    {
     "data": {
      "text/html": [
       "<div>\n",
       "<style scoped>\n",
       "    .dataframe tbody tr th:only-of-type {\n",
       "        vertical-align: middle;\n",
       "    }\n",
       "\n",
       "    .dataframe tbody tr th {\n",
       "        vertical-align: top;\n",
       "    }\n",
       "\n",
       "    .dataframe thead th {\n",
       "        text-align: right;\n",
       "    }\n",
       "</style>\n",
       "<table border=\"1\" class=\"dataframe\">\n",
       "  <thead>\n",
       "    <tr style=\"text-align: right;\">\n",
       "      <th></th>\n",
       "      <th>RefugeesDate</th>\n",
       "      <th>NoRefugees</th>\n",
       "    </tr>\n",
       "  </thead>\n",
       "  <tbody>\n",
       "    <tr>\n",
       "      <th>1</th>\n",
       "      <td>2022-04-25</td>\n",
       "      <td>85000</td>\n",
       "    </tr>\n",
       "    <tr>\n",
       "      <th>2</th>\n",
       "      <td>2022-04-27</td>\n",
       "      <td>128300</td>\n",
       "    </tr>\n",
       "    <tr>\n",
       "      <th>3</th>\n",
       "      <td>2022-05-03</td>\n",
       "      <td>165700</td>\n",
       "    </tr>\n",
       "    <tr>\n",
       "      <th>4</th>\n",
       "      <td>2022-05-09</td>\n",
       "      <td>180700</td>\n",
       "    </tr>\n",
       "    <tr>\n",
       "      <th>5</th>\n",
       "      <td>2022-05-18</td>\n",
       "      <td>180894</td>\n",
       "    </tr>\n",
       "    <tr>\n",
       "      <th>...</th>\n",
       "      <td>...</td>\n",
       "      <td>...</td>\n",
       "    </tr>\n",
       "    <tr>\n",
       "      <th>189</th>\n",
       "      <td>2023-01-27</td>\n",
       "      <td>7999941</td>\n",
       "    </tr>\n",
       "    <tr>\n",
       "      <th>190</th>\n",
       "      <td>2023-01-28</td>\n",
       "      <td>8001769</td>\n",
       "    </tr>\n",
       "    <tr>\n",
       "      <th>191</th>\n",
       "      <td>2023-01-29</td>\n",
       "      <td>8010394</td>\n",
       "    </tr>\n",
       "    <tr>\n",
       "      <th>192</th>\n",
       "      <td>2023-01-30</td>\n",
       "      <td>8012519</td>\n",
       "    </tr>\n",
       "    <tr>\n",
       "      <th>193</th>\n",
       "      <td>2023-01-31</td>\n",
       "      <td>8046560</td>\n",
       "    </tr>\n",
       "  </tbody>\n",
       "</table>\n",
       "<p>193 rows × 2 columns</p>\n",
       "</div>"
      ],
      "text/plain": [
       "    RefugeesDate NoRefugees\n",
       "1     2022-04-25      85000\n",
       "2     2022-04-27     128300\n",
       "3     2022-05-03     165700\n",
       "4     2022-05-09     180700\n",
       "5     2022-05-18     180894\n",
       "..           ...        ...\n",
       "189   2023-01-27    7999941\n",
       "190   2023-01-28    8001769\n",
       "191   2023-01-29    8010394\n",
       "192   2023-01-30    8012519\n",
       "193   2023-01-31    8046560\n",
       "\n",
       "[193 rows x 2 columns]"
      ]
     },
     "execution_count": 18,
     "metadata": {},
     "output_type": "execute_result"
    }
   ],
   "source": [
    "dados"
   ]
  },
  {
   "cell_type": "code",
   "execution_count": 19,
   "id": "74c05cb2",
   "metadata": {},
   "outputs": [
    {
     "name": "stdout",
     "output_type": "stream",
     "text": [
      "<class 'pandas.core.series.Series'>\n",
      "RangeIndex: 193 entries, 1 to 193\n",
      "Series name: NoRefugees\n",
      "Non-Null Count  Dtype \n",
      "--------------  ----- \n",
      "193 non-null    object\n",
      "dtypes: object(1)\n",
      "memory usage: 1.6+ KB\n"
     ]
    }
   ],
   "source": [
    "dados['NoRefugees'].info()"
   ]
  },
  {
   "cell_type": "code",
   "execution_count": 20,
   "id": "409717c3",
   "metadata": {},
   "outputs": [],
   "source": [
    "dados['RefugeesDate'] = pd.to_datetime(dados['RefugeesDate'])\n",
    "dados['NoRefugees'] = pd.to_numeric(dados['NoRefugees'])"
   ]
  },
  {
   "cell_type": "code",
   "execution_count": 21,
   "id": "1b59957b",
   "metadata": {},
   "outputs": [],
   "source": [
    "import datetime"
   ]
  },
  {
   "cell_type": "code",
   "execution_count": 22,
   "id": "3043e7dc",
   "metadata": {
    "scrolled": false
   },
   "outputs": [
    {
     "data": {
      "text/plain": [
       "<matplotlib.legend.Legend at 0x21b259c3e50>"
      ]
     },
     "execution_count": 22,
     "metadata": {},
     "output_type": "execute_result"
    },
    {
     "data": {
      "image/png": "[encoded data removed]",
      "text/plain": [
       "<Figure size 864x360 with 1 Axes>"
      ]
     },
     "metadata": {
      "needs_background": "light"
     },
     "output_type": "display_data"
    },
    {
     "data": {
      "image/png": "[encoded data removed]",
      "text/plain": [
       "<Figure size 864x360 with 1 Axes>"
      ]
     },
     "metadata": {
      "needs_background": "light"
     },
     "output_type": "display_data"
    }
   ],
   "source": [
    "fig = plt.figure(figsize=(12, 5))\n",
    "eixo = fig.add_axes([0, 0, 0.9, 0.9])\n",
    "eixo.plot(dados['RefugeesDate'], dados['NoRefugees'])\n",
    "eixo.set_ylabel('Nº de refugiados por milhão', fontsize= 13)\n",
    "eixo.set_xlabel('Datas Mensais', fontsize=13)\n",
    "eixo.set_title('Refugiados de Guerra da Ucrania', fontsize='15')\n",
    "eixo.legend(['Contagem Refugiados'], loc='lower right', fontsize=13)\n",
    "\n",
    "fig = plt.figure(figsize=(12, 5))\n",
    "eixo = fig.add_axes([0, 0, 0.9, 0.9])\n",
    "eixo.plot(dados['RefugeesDate'], dados['NoRefugees'])\n",
    "eixo.set_xlim(datetime.datetime(2022,5,18), datetime.datetime(2022,6,5))\n",
    "eixo.set_ylabel('Nº de refugiados por milhão', fontsize= 13)\n",
    "eixo.set_xlabel('Datas Mensais', fontsize=13)\n",
    "eixo.set_title('Maio a Junho', fontsize=15)\n",
    "eixo.legend(['Contagem Refugiados'], loc='lower right', fontsize=13)"
   ]
  },
  {
   "cell_type": "code",
   "execution_count": 23,
   "id": "32ec5e58",
   "metadata": {},
   "outputs": [
    {
     "data": {
      "text/plain": [
       "RefugeesDate    2023-01-31 00:00:00\n",
       "NoRefugees                  8046560\n",
       "dtype: object"
      ]
     },
     "execution_count": 23,
     "metadata": {},
     "output_type": "execute_result"
    }
   ],
   "source": [
    "dados.max()"
   ]
  },
  {
   "cell_type": "code",
   "execution_count": 24,
   "id": "313c66ac",
   "metadata": {},
   "outputs": [
    {
     "data": {
      "text/plain": [
       "RefugeesDate    2022-04-25 00:00:00\n",
       "NoRefugees                    85000\n",
       "dtype: object"
      ]
     },
     "execution_count": 24,
     "metadata": {},
     "output_type": "execute_result"
    }
   ],
   "source": [
    "dados.min()"
   ]
  },
  {
   "cell_type": "code",
   "execution_count": 25,
   "id": "e9bae3fe",
   "metadata": {},
   "outputs": [],
   "source": [
    "from matplotlib.dates import date2num"
   ]
  },
  {
   "cell_type": "code",
   "execution_count": 26,
   "id": "df91214f",
   "metadata": {},
   "outputs": [
    {
     "data": {
      "text/plain": [
       "<matplotlib.patches.Polygon at 0x21b25c42130>"
      ]
     },
     "execution_count": 26,
     "metadata": {},
     "output_type": "execute_result"
    },
    {
     "data": {
      "image/png": "[encoded data removed]",
      "text/plain": [
       "<Figure size 864x360 with 1 Axes>"
      ]
     },
     "metadata": {
      "needs_background": "light"
     },
     "output_type": "display_data"
    }
   ],
   "source": [
    "fig = plt.figure(figsize=(12, 5))\n",
    "eixo = fig.add_axes([0, 0, 0.9, 0.9])\n",
    "eixo.plot(dados['RefugeesDate'], dados['NoRefugees'])\n",
    "eixo.set_xlim(datetime.datetime(2022,5,15), datetime.datetime(2022,6,15))\n",
    "eixo.set_ylabel('Nº de refugiados por milhão', fontsize= 13)\n",
    "eixo.set_xlabel('Datas Mensais', fontsize=13)\n",
    "eixo.set_title('Destaque entre os dias 29/5 e 02/6', fontsize='15')\n",
    "eixo.legend(['Contagem Refugiados'], loc='lower right', fontsize=13)\n",
    "eixo.axvspan(date2num(datetime.datetime(2022,5,29)), date2num(datetime.datetime(2022,6,2)), color=\"red\", alpha=0.3)"
   ]
  },
  {
   "cell_type": "code",
   "execution_count": null,
   "id": "74a81718",
   "metadata": {},
   "outputs": [],
   "source": []
  },
  {
   "cell_type": "code",
   "execution_count": null,
   "id": "b93da9b6",
   "metadata": {},
   "outputs": [],
   "source": []
  }
 ],
 "metadata": {
  "kernelspec": {
   "display_name": "Python 3 (ipykernel)",
   "language": "python",
   "name": "python3"
  },
  "language_info": {
   "codemirror_mode": {
    "name": "ipython",
    "version": 3
   },
   "file_extension": ".py",
   "mimetype": "text/x-python",
   "name": "python",
   "nbconvert_exporter": "python",
   "pygments_lexer": "ipython3",
   "version": "3.9.12"
  }
 },
 "nbformat": 4,
 "nbformat_minor": 5
}
