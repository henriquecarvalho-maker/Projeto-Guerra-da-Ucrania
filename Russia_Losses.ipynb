{
 "cells": [
  {
   "cell_type": "markdown",
   "id": "797f0f26",
   "metadata": {},
   "source": [
    "<h1 style= 'color: blue; font-size: 36px'>Guerra da Ucrania</h1>"
   ]
  },
  {
   "cell_type": "markdown",
   "id": "3e899f0f",
   "metadata": {},
   "source": [
    "<h1 style= 'font-size: 30px;'>Baixas Russas e Ucranianas</h1>\n",
    "<hr style= 'border: 1px solid gray'>"
   ]
  },
  {
   "cell_type": "code",
   "execution_count": 127,
   "id": "8dcd7685",
   "metadata": {},
   "outputs": [],
   "source": [
    "import pandas as pd\n",
    "import seaborn as sns\n",
    "sns.set_theme(style=\"darkgrid\")\n",
    "import numpy as np\n",
    "import matplotlib\n",
    "import matplotlib.pyplot as plt\n",
    "%matplotlib inline\n",
    "import matplotlib.animation as animation\n",
    "from itertools import count\n",
    "plt.rc('figure', figsize= (14, 6))"
   ]
  },
  {
   "cell_type": "markdown",
   "id": "e391d1e2",
   "metadata": {},
   "source": [
    "## Dataset e Projeto\n",
    "<hr>\n",
    "\n",
    "### Fonte dataset: https://www.kaggle.com/datasets/piterfm/2022-ukraine-russian-war\n",
    "\n",
    "#### Descrição: \n",
    "\n",
    "<p style='font-size: 14px; margin: 10px 50px;'> Essa é uma visão geral das baixas russas na guerra da Ucrania baseado em uma dataset criado pelo o perfil <b>(Petro) Data Scientist, PhD na CheAI Lviv, Lviv Oblast, Ucraine</b>.</p>\n",
    "\n",
    "<p style='font-size: 14px; margin: 10px 50px;'>O objetivo é fazer uma comparação da grande perca humana na guerra da Ucrania, observando as baixas dos dois lados da guerra e análisando de forma inteira somando ambos os lados de forma geral.</p>"
   ]
  },
  {
   "cell_type": "code",
   "execution_count": 128,
   "id": "c757e6dc",
   "metadata": {},
   "outputs": [],
   "source": [
    "dados = pd.read_csv('dados/russia_losses_personnel.csv')"
   ]
  },
  {
   "cell_type": "code",
   "execution_count": 129,
   "id": "4b67ece2",
   "metadata": {},
   "outputs": [
    {
     "data": {
      "text/html": [
       "<div>\n",
       "<style scoped>\n",
       "    .dataframe tbody tr th:only-of-type {\n",
       "        vertical-align: middle;\n",
       "    }\n",
       "\n",
       "    .dataframe tbody tr th {\n",
       "        vertical-align: top;\n",
       "    }\n",
       "\n",
       "    .dataframe thead th {\n",
       "        text-align: right;\n",
       "    }\n",
       "</style>\n",
       "<table border=\"1\" class=\"dataframe\">\n",
       "  <thead>\n",
       "    <tr style=\"text-align: right;\">\n",
       "      <th></th>\n",
       "      <th>date</th>\n",
       "      <th>day</th>\n",
       "      <th>personnel</th>\n",
       "      <th>personnel*</th>\n",
       "      <th>POW</th>\n",
       "    </tr>\n",
       "  </thead>\n",
       "  <tbody>\n",
       "    <tr>\n",
       "      <th>0</th>\n",
       "      <td>2022-02-25</td>\n",
       "      <td>2</td>\n",
       "      <td>2800</td>\n",
       "      <td>about</td>\n",
       "      <td>0.0</td>\n",
       "    </tr>\n",
       "    <tr>\n",
       "      <th>1</th>\n",
       "      <td>2022-02-26</td>\n",
       "      <td>3</td>\n",
       "      <td>4300</td>\n",
       "      <td>about</td>\n",
       "      <td>0.0</td>\n",
       "    </tr>\n",
       "    <tr>\n",
       "      <th>2</th>\n",
       "      <td>2022-02-27</td>\n",
       "      <td>4</td>\n",
       "      <td>4500</td>\n",
       "      <td>about</td>\n",
       "      <td>0.0</td>\n",
       "    </tr>\n",
       "    <tr>\n",
       "      <th>3</th>\n",
       "      <td>2022-02-28</td>\n",
       "      <td>5</td>\n",
       "      <td>5300</td>\n",
       "      <td>about</td>\n",
       "      <td>0.0</td>\n",
       "    </tr>\n",
       "    <tr>\n",
       "      <th>4</th>\n",
       "      <td>2022-03-01</td>\n",
       "      <td>6</td>\n",
       "      <td>5710</td>\n",
       "      <td>about</td>\n",
       "      <td>200.0</td>\n",
       "    </tr>\n",
       "    <tr>\n",
       "      <th>...</th>\n",
       "      <td>...</td>\n",
       "      <td>...</td>\n",
       "      <td>...</td>\n",
       "      <td>...</td>\n",
       "      <td>...</td>\n",
       "    </tr>\n",
       "    <tr>\n",
       "      <th>334</th>\n",
       "      <td>2023-01-25</td>\n",
       "      <td>336</td>\n",
       "      <td>123080</td>\n",
       "      <td>about</td>\n",
       "      <td>NaN</td>\n",
       "    </tr>\n",
       "    <tr>\n",
       "      <th>335</th>\n",
       "      <td>2023-01-26</td>\n",
       "      <td>337</td>\n",
       "      <td>123860</td>\n",
       "      <td>about</td>\n",
       "      <td>NaN</td>\n",
       "    </tr>\n",
       "    <tr>\n",
       "      <th>336</th>\n",
       "      <td>2023-01-27</td>\n",
       "      <td>338</td>\n",
       "      <td>124710</td>\n",
       "      <td>about</td>\n",
       "      <td>NaN</td>\n",
       "    </tr>\n",
       "    <tr>\n",
       "      <th>337</th>\n",
       "      <td>2023-01-28</td>\n",
       "      <td>339</td>\n",
       "      <td>125510</td>\n",
       "      <td>about</td>\n",
       "      <td>NaN</td>\n",
       "    </tr>\n",
       "    <tr>\n",
       "      <th>338</th>\n",
       "      <td>2023-01-29</td>\n",
       "      <td>340</td>\n",
       "      <td>126160</td>\n",
       "      <td>about</td>\n",
       "      <td>NaN</td>\n",
       "    </tr>\n",
       "  </tbody>\n",
       "</table>\n",
       "<p>339 rows × 5 columns</p>\n",
       "</div>"
      ],
      "text/plain": [
       "           date  day  personnel personnel*    POW\n",
       "0    2022-02-25    2       2800      about    0.0\n",
       "1    2022-02-26    3       4300      about    0.0\n",
       "2    2022-02-27    4       4500      about    0.0\n",
       "3    2022-02-28    5       5300      about    0.0\n",
       "4    2022-03-01    6       5710      about  200.0\n",
       "..          ...  ...        ...        ...    ...\n",
       "334  2023-01-25  336     123080      about    NaN\n",
       "335  2023-01-26  337     123860      about    NaN\n",
       "336  2023-01-27  338     124710      about    NaN\n",
       "337  2023-01-28  339     125510      about    NaN\n",
       "338  2023-01-29  340     126160      about    NaN\n",
       "\n",
       "[339 rows x 5 columns]"
      ]
     },
     "execution_count": 129,
     "metadata": {},
     "output_type": "execute_result"
    }
   ],
   "source": [
    "dados"
   ]
  },
  {
   "cell_type": "code",
   "execution_count": 130,
   "id": "df4cf58f",
   "metadata": {},
   "outputs": [
    {
     "data": {
      "text/html": [
       "<div>\n",
       "<style scoped>\n",
       "    .dataframe tbody tr th:only-of-type {\n",
       "        vertical-align: middle;\n",
       "    }\n",
       "\n",
       "    .dataframe tbody tr th {\n",
       "        vertical-align: top;\n",
       "    }\n",
       "\n",
       "    .dataframe thead th {\n",
       "        text-align: right;\n",
       "    }\n",
       "</style>\n",
       "<table border=\"1\" class=\"dataframe\">\n",
       "  <thead>\n",
       "    <tr style=\"text-align: right;\">\n",
       "      <th></th>\n",
       "      <th>date</th>\n",
       "      <th>day</th>\n",
       "      <th>personnel</th>\n",
       "    </tr>\n",
       "  </thead>\n",
       "  <tbody>\n",
       "    <tr>\n",
       "      <th>0</th>\n",
       "      <td>2022-02-25</td>\n",
       "      <td>2</td>\n",
       "      <td>2800</td>\n",
       "    </tr>\n",
       "    <tr>\n",
       "      <th>1</th>\n",
       "      <td>2022-02-26</td>\n",
       "      <td>3</td>\n",
       "      <td>4300</td>\n",
       "    </tr>\n",
       "    <tr>\n",
       "      <th>2</th>\n",
       "      <td>2022-02-27</td>\n",
       "      <td>4</td>\n",
       "      <td>4500</td>\n",
       "    </tr>\n",
       "    <tr>\n",
       "      <th>3</th>\n",
       "      <td>2022-02-28</td>\n",
       "      <td>5</td>\n",
       "      <td>5300</td>\n",
       "    </tr>\n",
       "    <tr>\n",
       "      <th>4</th>\n",
       "      <td>2022-03-01</td>\n",
       "      <td>6</td>\n",
       "      <td>5710</td>\n",
       "    </tr>\n",
       "    <tr>\n",
       "      <th>...</th>\n",
       "      <td>...</td>\n",
       "      <td>...</td>\n",
       "      <td>...</td>\n",
       "    </tr>\n",
       "    <tr>\n",
       "      <th>334</th>\n",
       "      <td>2023-01-25</td>\n",
       "      <td>336</td>\n",
       "      <td>123080</td>\n",
       "    </tr>\n",
       "    <tr>\n",
       "      <th>335</th>\n",
       "      <td>2023-01-26</td>\n",
       "      <td>337</td>\n",
       "      <td>123860</td>\n",
       "    </tr>\n",
       "    <tr>\n",
       "      <th>336</th>\n",
       "      <td>2023-01-27</td>\n",
       "      <td>338</td>\n",
       "      <td>124710</td>\n",
       "    </tr>\n",
       "    <tr>\n",
       "      <th>337</th>\n",
       "      <td>2023-01-28</td>\n",
       "      <td>339</td>\n",
       "      <td>125510</td>\n",
       "    </tr>\n",
       "    <tr>\n",
       "      <th>338</th>\n",
       "      <td>2023-01-29</td>\n",
       "      <td>340</td>\n",
       "      <td>126160</td>\n",
       "    </tr>\n",
       "  </tbody>\n",
       "</table>\n",
       "<p>339 rows × 3 columns</p>\n",
       "</div>"
      ],
      "text/plain": [
       "           date  day  personnel\n",
       "0    2022-02-25    2       2800\n",
       "1    2022-02-26    3       4300\n",
       "2    2022-02-27    4       4500\n",
       "3    2022-02-28    5       5300\n",
       "4    2022-03-01    6       5710\n",
       "..          ...  ...        ...\n",
       "334  2023-01-25  336     123080\n",
       "335  2023-01-26  337     123860\n",
       "336  2023-01-27  338     124710\n",
       "337  2023-01-28  339     125510\n",
       "338  2023-01-29  340     126160\n",
       "\n",
       "[339 rows x 3 columns]"
      ]
     },
     "execution_count": 130,
     "metadata": {},
     "output_type": "execute_result"
    }
   ],
   "source": [
    "dados_ = dados.drop(columns=['personnel*', 'POW'])\n",
    "dados_"
   ]
  },
  {
   "cell_type": "code",
   "execution_count": 131,
   "id": "02deb4f9",
   "metadata": {},
   "outputs": [],
   "source": [
    "x= dados_['date']\n",
    "y= dados_['personnel']"
   ]
  },
  {
   "cell_type": "code",
   "execution_count": 132,
   "id": "d239b58c",
   "metadata": {},
   "outputs": [],
   "source": [
    "dados_['date'] = pd.to_datetime(dados_['date'])"
   ]
  },
  {
   "cell_type": "markdown",
   "id": "a36400d1",
   "metadata": {},
   "source": [
    "### 1- Periodo \n",
    "<hr>\n",
    "\n",
    "<p style='font-size: 14px'>O gráfico abaixo mostra o periode da coleta de dados de 25/2/2022 a 29/1/2023.</p>"
   ]
  },
  {
   "cell_type": "code",
   "execution_count": 133,
   "id": "cdb80143",
   "metadata": {},
   "outputs": [
    {
     "data": {
      "text/plain": [
       "<matplotlib.legend.Legend at 0x228389ca970>"
      ]
     },
     "execution_count": 133,
     "metadata": {},
     "output_type": "execute_result"
    },
    {
     "data": {
      "image/png": "[encoded data removed]",
      "text/plain": [
       "<Figure size 864x360 with 1 Axes>"
      ]
     },
     "metadata": {
      "needs_background": "light"
     },
     "output_type": "display_data"
    }
   ],
   "source": [
    "fig = plt.figure(figsize=(12,5))\n",
    "eixo = fig.add_axes([0, 0, 0.9, 0.9])\n",
    "eixo.plot(dados_['date'], y, color='red')\n",
    "eixo.set_title('Contagem de baixas Russas durante a Guerra da Ucrania', fontsize=15)\n",
    "eixo.set_ylabel('Nº Baixas', fontsize=13)\n",
    "eixo.set_xlabel('( DIAS ) 25/02/2022 - 29/01/2023', fontsize=13)\n",
    "eixo.legend(['Baixas'], loc= 'lower right', fontsize=15)"
   ]
  },
  {
   "cell_type": "markdown",
   "id": "cdefac5b",
   "metadata": {},
   "source": [
    "### 1.1 Começo do conflito 25/2 - 25/5\n",
    "<hr>"
   ]
  },
  {
   "cell_type": "markdown",
   "id": "4625d6ed",
   "metadata": {},
   "source": [
    "<p style='font-size: 14px'>Em 25 de janeiro de 2022 a Rússia ilegalmente invadiu a Ucrânia e suas principais cidades inclusive a capital Kiev foi fortemente bombardeada, nas primeiras semanas a incursão Russa foi forte, garantido a superioridade aeria e terrestre, porem as tropas russas tiveram forte baixas no começo do conflito e no decorrer.</p>"
   ]
  },
  {
   "cell_type": "code",
   "execution_count": 134,
   "id": "a37be06f",
   "metadata": {},
   "outputs": [],
   "source": [
    "import datetime"
   ]
  },
  {
   "cell_type": "code",
   "execution_count": 135,
   "id": "65f1c574",
   "metadata": {
    "scrolled": false
   },
   "outputs": [
    {
     "data": {
      "text/plain": [
       "<matplotlib.legend.Legend at 0x22838f698b0>"
      ]
     },
     "execution_count": 135,
     "metadata": {},
     "output_type": "execute_result"
    },
    {
     "data": {
      "image/png": "[encoded data removed]",
      "text/plain": [
       "<Figure size 936x360 with 1 Axes>"
      ]
     },
     "metadata": {
      "needs_background": "light"
     },
     "output_type": "display_data"
    }
   ],
   "source": [
    "fig = plt.figure(figsize=(13,5))\n",
    "eixo = fig.add_axes([0, 0, 0.9, 0.9])\n",
    "eixo.plot(dados_['date'], y, color='red')\n",
    "#eixo.bar(dados_['date'], y)\n",
    "\n",
    "eixo.set_xlim(datetime.datetime(2022,2,25), datetime.datetime(2022,5,25))\n",
    "eixo.set_title('Periodo entre Março e Maio onde Baixas se intensificaram', fontsize=15)\n",
    "eixo.set_ylabel('Baixas', fontsize=13)\n",
    "eixo.set_xlabel('(Dias) Março a Maio', fontsize=13)\n",
    "eixo.legend(['Baixas'], loc= 'lower right', fontsize=15)"
   ]
  },
  {
   "cell_type": "code",
   "execution_count": 136,
   "id": "7fe3eb81",
   "metadata": {},
   "outputs": [
    {
     "data": {
      "image/png": "[encoded data removed]",
      "text/plain": [
       "<Figure size 1008x360 with 1 Axes>"
      ]
     },
     "metadata": {
      "needs_background": "light"
     },
     "output_type": "display_data"
    }
   ],
   "source": [
    "ax = sns.displot(data=dados_, x=\"date\", y=\"personnel\")\n",
    "ax = sns.lineplot(data=dados_, x=\"date\", y=\"personnel\", color='red')\n",
    "ax.set_title('Intencidade das baixas atráves dos meses', fontsize=15)\n",
    "ax.set_ylabel('Baixas', fontsize=13)\n",
    "ax.set_xlabel('Date', fontsize=13)\n",
    "ax.figure.set_size_inches(14,5)"
   ]
  },
  {
   "cell_type": "code",
   "execution_count": 137,
   "id": "be64807c",
   "metadata": {},
   "outputs": [
    {
     "data": {
      "text/plain": [
       "17878406"
      ]
     },
     "execution_count": 137,
     "metadata": {},
     "output_type": "execute_result"
    }
   ],
   "source": [
    "total_baixas = dados_['personnel'].sum()\n",
    "total_baixas"
   ]
  },
  {
   "cell_type": "code",
   "execution_count": 138,
   "id": "5a7f2711",
   "metadata": {},
   "outputs": [
    {
     "data": {
      "text/plain": [
       "Text(0.5, 0, 'Mês de Janeiro (2023)')"
      ]
     },
     "execution_count": 138,
     "metadata": {},
     "output_type": "execute_result"
    },
    {
     "data": {
      "image/png": "[encoded data removed]",
      "text/plain": [
       "<Figure size 1080x288 with 1 Axes>"
      ]
     },
     "metadata": {
      "needs_background": "light"
     },
     "output_type": "display_data"
    }
   ],
   "source": [
    "fig = plt.figure(figsize=(15,4))\n",
    "eixo = fig.add_axes([0, 0, 0.9, 0.9])\n",
    "eixo.bar(dados_['date'], y)\n",
    "\n",
    "eixo.set_xlim(datetime.datetime(2023,1,1), datetime.datetime(2023,1,29))\n",
    "eixo.set_title('Baixas Diarias', fontsize=15)\n",
    "eixo.set_ylabel('Baixas', fontsize=13)\n",
    "eixo.set_xlabel('Mês de Janeiro (2023)', fontsize=13)"
   ]
  },
  {
   "cell_type": "code",
   "execution_count": 139,
   "id": "e7c21532",
   "metadata": {},
   "outputs": [
    {
     "data": {
      "text/html": [
       "<div>\n",
       "<style scoped>\n",
       "    .dataframe tbody tr th:only-of-type {\n",
       "        vertical-align: middle;\n",
       "    }\n",
       "\n",
       "    .dataframe tbody tr th {\n",
       "        vertical-align: top;\n",
       "    }\n",
       "\n",
       "    .dataframe thead th {\n",
       "        text-align: right;\n",
       "    }\n",
       "</style>\n",
       "<table border=\"1\" class=\"dataframe\">\n",
       "  <thead>\n",
       "    <tr style=\"text-align: right;\">\n",
       "      <th></th>\n",
       "      <th>day</th>\n",
       "      <th>personnel</th>\n",
       "    </tr>\n",
       "  </thead>\n",
       "  <tbody>\n",
       "    <tr>\n",
       "      <th>0</th>\n",
       "      <td>2</td>\n",
       "      <td>2800</td>\n",
       "    </tr>\n",
       "    <tr>\n",
       "      <th>1</th>\n",
       "      <td>3</td>\n",
       "      <td>4300</td>\n",
       "    </tr>\n",
       "    <tr>\n",
       "      <th>2</th>\n",
       "      <td>4</td>\n",
       "      <td>4500</td>\n",
       "    </tr>\n",
       "    <tr>\n",
       "      <th>3</th>\n",
       "      <td>5</td>\n",
       "      <td>5300</td>\n",
       "    </tr>\n",
       "    <tr>\n",
       "      <th>4</th>\n",
       "      <td>6</td>\n",
       "      <td>5710</td>\n",
       "    </tr>\n",
       "    <tr>\n",
       "      <th>...</th>\n",
       "      <td>...</td>\n",
       "      <td>...</td>\n",
       "    </tr>\n",
       "    <tr>\n",
       "      <th>334</th>\n",
       "      <td>336</td>\n",
       "      <td>123080</td>\n",
       "    </tr>\n",
       "    <tr>\n",
       "      <th>335</th>\n",
       "      <td>337</td>\n",
       "      <td>123860</td>\n",
       "    </tr>\n",
       "    <tr>\n",
       "      <th>336</th>\n",
       "      <td>338</td>\n",
       "      <td>124710</td>\n",
       "    </tr>\n",
       "    <tr>\n",
       "      <th>337</th>\n",
       "      <td>339</td>\n",
       "      <td>125510</td>\n",
       "    </tr>\n",
       "    <tr>\n",
       "      <th>338</th>\n",
       "      <td>340</td>\n",
       "      <td>126160</td>\n",
       "    </tr>\n",
       "  </tbody>\n",
       "</table>\n",
       "<p>339 rows × 2 columns</p>\n",
       "</div>"
      ],
      "text/plain": [
       "     day  personnel\n",
       "0      2       2800\n",
       "1      3       4300\n",
       "2      4       4500\n",
       "3      5       5300\n",
       "4      6       5710\n",
       "..   ...        ...\n",
       "334  336     123080\n",
       "335  337     123860\n",
       "336  338     124710\n",
       "337  339     125510\n",
       "338  340     126160\n",
       "\n",
       "[339 rows x 2 columns]"
      ]
     },
     "execution_count": 139,
     "metadata": {},
     "output_type": "execute_result"
    }
   ],
   "source": [
    "dados_days = dados_.drop(columns=['date'])\n",
    "dados_days"
   ]
  },
  {
   "cell_type": "code",
   "execution_count": 140,
   "id": "14ae9358",
   "metadata": {},
   "outputs": [
    {
     "data": {
      "text/html": [
       "<div>\n",
       "<style scoped>\n",
       "    .dataframe tbody tr th:only-of-type {\n",
       "        vertical-align: middle;\n",
       "    }\n",
       "\n",
       "    .dataframe tbody tr th {\n",
       "        vertical-align: top;\n",
       "    }\n",
       "\n",
       "    .dataframe thead th {\n",
       "        text-align: right;\n",
       "    }\n",
       "</style>\n",
       "<table border=\"1\" class=\"dataframe\">\n",
       "  <thead>\n",
       "    <tr style=\"text-align: right;\">\n",
       "      <th></th>\n",
       "      <th>personnel</th>\n",
       "    </tr>\n",
       "    <tr>\n",
       "      <th>day</th>\n",
       "      <th></th>\n",
       "    </tr>\n",
       "  </thead>\n",
       "  <tbody>\n",
       "    <tr>\n",
       "      <th>2</th>\n",
       "      <td>2800</td>\n",
       "    </tr>\n",
       "    <tr>\n",
       "      <th>3</th>\n",
       "      <td>4300</td>\n",
       "    </tr>\n",
       "    <tr>\n",
       "      <th>4</th>\n",
       "      <td>4500</td>\n",
       "    </tr>\n",
       "    <tr>\n",
       "      <th>5</th>\n",
       "      <td>5300</td>\n",
       "    </tr>\n",
       "    <tr>\n",
       "      <th>6</th>\n",
       "      <td>5710</td>\n",
       "    </tr>\n",
       "    <tr>\n",
       "      <th>...</th>\n",
       "      <td>...</td>\n",
       "    </tr>\n",
       "    <tr>\n",
       "      <th>336</th>\n",
       "      <td>123080</td>\n",
       "    </tr>\n",
       "    <tr>\n",
       "      <th>337</th>\n",
       "      <td>123860</td>\n",
       "    </tr>\n",
       "    <tr>\n",
       "      <th>338</th>\n",
       "      <td>124710</td>\n",
       "    </tr>\n",
       "    <tr>\n",
       "      <th>339</th>\n",
       "      <td>125510</td>\n",
       "    </tr>\n",
       "    <tr>\n",
       "      <th>340</th>\n",
       "      <td>126160</td>\n",
       "    </tr>\n",
       "  </tbody>\n",
       "</table>\n",
       "<p>339 rows × 1 columns</p>\n",
       "</div>"
      ],
      "text/plain": [
       "     personnel\n",
       "day           \n",
       "2         2800\n",
       "3         4300\n",
       "4         4500\n",
       "5         5300\n",
       "6         5710\n",
       "..         ...\n",
       "336     123080\n",
       "337     123860\n",
       "338     124710\n",
       "339     125510\n",
       "340     126160\n",
       "\n",
       "[339 rows x 1 columns]"
      ]
     },
     "execution_count": 140,
     "metadata": {},
     "output_type": "execute_result"
    }
   ],
   "source": [
    "dard = dados_days.set_index('day')\n",
    "dard"
   ]
  },
  {
   "cell_type": "code",
   "execution_count": 141,
   "id": "808f297a",
   "metadata": {},
   "outputs": [],
   "source": [
    "#dard.to_csv('dard_ani.csv')"
   ]
  },
  {
   "cell_type": "code",
   "execution_count": 142,
   "id": "b906dac2",
   "metadata": {},
   "outputs": [],
   "source": [
    "dfani = pd.read_csv('dados/dard_ani.csv')"
   ]
  },
  {
   "cell_type": "code",
   "execution_count": 143,
   "id": "15b76856",
   "metadata": {},
   "outputs": [
    {
     "data": {
      "text/plain": [
       "<matplotlib.animation.FuncAnimation at 0x22839745100>"
      ]
     },
     "execution_count": 143,
     "metadata": {},
     "output_type": "execute_result"
    },
    {
     "data": {
      "image/png": "[encoded data removed]",
      "text/plain": [
       "<Figure size 1008x432 with 1 Axes>"
      ]
     },
     "metadata": {
      "needs_background": "light"
     },
     "output_type": "display_data"
    }
   ],
   "source": [
    "x=[]\n",
    "y=[]\n",
    "\n",
    "fig, ax= plt.subplots()\n",
    "ax.plot(x, y)\n",
    "\n",
    "contador= count(0, 1)\n",
    "def update(i):\n",
    "    idx=next(contador)\n",
    "    x.append(dfani.iloc[idx, 0])\n",
    "    y.append(dfani.iloc[idx, 1])\n",
    "    plt.cla()\n",
    "    ax.plot(x, y)\n",
    "\n",
    "ani= animation.FuncAnimation(fig=fig, func=update, interval=200)\n",
    "ani"
   ]
  },
  {
   "cell_type": "code",
   "execution_count": null,
   "id": "4e21cc36",
   "metadata": {
    "scrolled": false
   },
   "outputs": [],
   "source": []
  }
 ],
 "metadata": {
  "kernelspec": {
   "display_name": "Python 3 (ipykernel)",
   "language": "python",
   "name": "python3"
  },
  "language_info": {
   "codemirror_mode": {
    "name": "ipython",
    "version": 3
   },
   "file_extension": ".py",
   "mimetype": "text/x-python",
   "name": "python",
   "nbconvert_exporter": "python",
   "pygments_lexer": "ipython3",
   "version": "3.9.12"
  }
 },
 "nbformat": 4,
 "nbformat_minor": 5
}
